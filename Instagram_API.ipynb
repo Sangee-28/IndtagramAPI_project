{
  "nbformat": 4,
  "nbformat_minor": 0,
  "metadata": {
    "colab": {
      "name": "Instagram API",
      "provenance": [],
      "authorship_tag": "ABX9TyP85saDzeQgZ2/VokL/HUGp",
      "include_colab_link": true
    },
    "kernelspec": {
      "name": "python3",
      "display_name": "Python 3"
    },
    "language_info": {
      "name": "python"
    }
  },
  "cells": [
    {
      "cell_type": "markdown",
      "metadata": {
        "id": "view-in-github",
        "colab_type": "text"
      },
      "source": [
        "<a href=\"https://colab.research.google.com/github/Sangee-28/InstagramAPI_project/blob/main/Instagram_API.ipynb\" target=\"_parent\"><img src=\"https://colab.research.google.com/assets/colab-badge.svg\" alt=\"Open In Colab\"/></a>"
      ]
    },
    {
      "cell_type": "code",
      "execution_count": null,
      "metadata": {
        "id": "QoTpw7lgov9e"
      },
      "outputs": [],
      "source": [
        "#import requests\n",
        "import json\n",
        "import datetime\n",
        "import pandas as pd\n",
        "\n",
        "# Define Parameters Dictionary\n",
        "params = dict()\n",
        "params['access_token'] = 'EAALGziz1aKUBAJZC9D3a3DTgk9lOIzCYMpUzkpaZAeyhBCtnmUMy0p7hZB6AyD9XjwtPBdgF2SoaR5YfyKo3oq7y9DpIHKZBycZAIur5JcfXCLggefps4QHmxfeZAVnha68De2XmleFuZC37e92BsQt7R6QsCMhnT3NeeZCIBL46ZAgGG1IJXoln77MIbe0YfnvnsSZBHYZBd7RwLVfkyMubVPq'        # not an actual access token\n",
        "params['client_id'] = '781538773264549'                  # not an actual client id\n",
        "params['client_secret'] = '●●●●●●●●'     # not an actual client secret\n",
        "params['graph_domain'] = 'https://graph.facebook.com'\n",
        "params['graph_version'] = 'v12.0'\n",
        "params['endpoint_base'] = params['graph_domain'] + '/' + params['graph_version'] + '/'\n",
        "params['page_id'] = '103423869080876'                  # not an actual page id\n",
        "params['instagram_account_id'] = '52400554463'        # not an actual instagram business account id\n",
        "params['ig_username'] = '_furrysisters_'\n",
        "\n",
        "\n",
        "endpointParams = dict()\n",
        "endpointParams['input_token'] = params['access_token']\n",
        "endpointParams['access_token'] = params['access_token']\n",
        "\n",
        "# Define URL\n",
        "url = params['graph_domain'] + '/debug_token'\n",
        "\n",
        "# Requests Data\n",
        "data = requests.get(url, endpointParams)\n",
        "access_token_data = json.loads(data.content)\n",
        "print(access_token_data)\n",
        "\n",
        "\n",
        "Converting the expiry date to proper timestamp\n",
        "\n",
        "#print(\"Token Expires: \", datetime.datetime.fromtimestamp(access_token_data['data']['expires_at']))\n"
      ]
    }
  ]
}